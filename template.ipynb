{
 "cells": [
  {
   "cell_type": "markdown",
   "metadata": {},
   "source": [
    "# Impact of Number of Nutritions\n",
    "\n",
    "**Name(s)**: Bryan Cha, Chloe Kim\n",
    "\n",
    "**Website Link**: (your website link)"
   ]
  },
  {
   "cell_type": "markdown",
   "metadata": {},
   "source": [
    "## Code"
   ]
  },
  {
   "cell_type": "code",
   "execution_count": 1,
   "metadata": {
    "ExecuteTime": {
     "end_time": "2019-10-31T23:36:28.652554Z",
     "start_time": "2019-10-31T23:36:27.180520Z"
    }
   },
   "outputs": [],
   "source": [
    "import pandas as pd\n",
    "import numpy as np\n",
    "import os\n",
    "\n",
    "import plotly.io as pio\n",
    "import plotly.express as px\n",
    "pio.renderers.default = 'notebook'\n",
    "pd.options.plotting.backend = 'plotly'\n"
   ]
  },
  {
   "cell_type": "markdown",
   "metadata": {},
   "source": [
    "### Cleaning and EDA"
   ]
  },
  {
   "cell_type": "code",
   "execution_count": null,
   "metadata": {
    "ExecuteTime": {
     "end_time": "2019-10-31T23:36:28.657068Z",
     "start_time": "2019-10-31T23:36:28.654650Z"
    }
   },
   "outputs": [],
   "source": [
    "recipe = pd.read_csv('RAW_recipes.csv')\n",
    "interaction = pd.read_csv('RAW_interactions.csv')\n",
    "both = recipe.merge(interaction, left_on = 'id', right_on = 'recipe_id', how = 'left')\n",
    "both.replace(0, np.nan, inplace = True)\n",
    "both.head()\n",
    "\n",
    "both.columns\n",
    "# My question is: what is the relationship between calories and average rating of recipes"
   ]
  },
  {
   "cell_type": "code",
   "execution_count": null,
   "metadata": {},
   "outputs": [],
   "source": [
    "after_recipe = both\n",
    "after_recipe['rating_mean'] = after_recipe.groupby('id')['rating'].transform('mean')\n",
    "calories = after_recipe['nutrition'].apply(lambda x : x.split(',')[0].replace('[', '')).astype('float')\n",
    "after_recipe = after_recipe.assign(**{'calories' : calories})\n",
    "\n",
    "med = both['n_ingredients'].median()\n",
    "after_recipe = after_recipe.assign(**{'low_number' : after_recipe['n_ingredients'].apply(lambda x : True if x < med else False)})\n",
    "min_cal = after_recipe['calories'].min()\n",
    "after_recipe = after_recipe.assign(**{\"log_calories\" : after_recipe['calories'].apply(lambda x: np.log(x - min_cal + 1))})\n",
    "after_recipe['rating_missingness'] = after_recipe['rating'].isna()\n",
    "after_recipe\n",
    "\n",
    "typel = []\n",
    "\n",
    "for i in interaction.columns:\n",
    "    print(i, interaction[i].dtype)\n",
    "\n",
    "after_recipe.loc[:,['id', 'low_number', 'calories']].head()\n"
   ]
  },
  {
   "cell_type": "code",
   "execution_count": null,
   "metadata": {},
   "outputs": [],
   "source": [
    "#plot for distribution of average rating\n",
    "distribution_n_ingredients = px.histogram(after_recipe, x = 'n_ingredients', height = 300, width = 500, title = 'Distribution of number of ingredients')\n",
    "distribution_n_ingredients.show()"
   ]
  },
  {
   "cell_type": "code",
   "execution_count": null,
   "metadata": {},
   "outputs": [],
   "source": [
    "distribution_n_ingredients.write_html('./graph/distribution_n_ingredients.html', include_plotlyjs='cdn')"
   ]
  },
  {
   "cell_type": "code",
   "execution_count": 4,
   "metadata": {},
   "outputs": [],
   "source": [
    "#distribution of calories\n",
    "cal = after_recipe.loc[after_recipe['calories'] < 2000]\n",
    "distribution_calories = px.histogram(cal, x='calories', height = 500, width = 800, title = \"distribution of calories\") \n",
    "distribution_calories.show()"
   ]
  },
  {
   "cell_type": "code",
   "execution_count": null,
   "metadata": {},
   "outputs": [],
   "source": [
    "distribution_calories.write_html('./graph/distribution_calories.html', include_plotlyjs='cdn')"
   ]
  },
  {
   "cell_type": "code",
   "execution_count": null,
   "metadata": {},
   "outputs": [],
   "source": [
    "#scatter plots with caloreis and rating\n",
    "scatter = px.scatter(after_recipe, x = 'n_ingredients', y = 'calories', height = 300, width = 500, title = 'Scatter plot of calories and number of ingredients')\n",
    "scatter.show()"
   ]
  },
  {
   "cell_type": "code",
   "execution_count": null,
   "metadata": {},
   "outputs": [],
   "source": [
    "scatter.write_html('./graph/scatter.html', include_plotlyjs='cdn')"
   ]
  },
  {
   "cell_type": "code",
   "execution_count": null,
   "metadata": {},
   "outputs": [],
   "source": [
    "box_plot = px.box(cal, x = 'low_number', y = 'calories',height = 300, width = 500,title = \"box plot of calories based on the number of number of ingredients\")\n",
    "box_plot.update_layout(title=dict(text=\"box plot of calories based on the number of number of ingredients\", font=dict(size=12)))\n",
    "box_plot.show()"
   ]
  },
  {
   "cell_type": "code",
   "execution_count": null,
   "metadata": {},
   "outputs": [],
   "source": [
    "box_plot.write_html('./graph/box_plot.html', include_plotlyjs='cdn')"
   ]
  },
  {
   "cell_type": "code",
   "execution_count": null,
   "metadata": {},
   "outputs": [],
   "source": [
    "# number of recipe with low number of ingredients and high number of ingredients based on rating (1-5)\n",
    "pivottt = after_recipe.pivot_table(index = 'rating', columns = 'low_number', aggfunc = 'size')\n",
    "pivottt = pivottt/pivottt.sum()\n",
    "pivottt"
   ]
  },
  {
   "cell_type": "code",
   "execution_count": null,
   "metadata": {},
   "outputs": [],
   "source": [
    "bar_graph = pivottt.plot(kind='bar', width = 800, height = 500, title = 'comparison of numbers of recipe for low number and high number of ingredients based on rating')\n",
    "bar_graph.update_layout(yaxis_title='Proportion', title=dict(text='comparison of numbers of recipe for low number and high number of ingredients based on rating', font=dict(size=14)))\n",
    "bar_graph"
   ]
  },
  {
   "cell_type": "code",
   "execution_count": null,
   "metadata": {},
   "outputs": [],
   "source": [
    "bar_graph.write_html('./graph/bar_graph.html', include_plotlyjs='cdn')"
   ]
  },
  {
   "cell_type": "markdown",
   "metadata": {},
   "source": [
    "### Assessment of Missingness"
   ]
  },
  {
   "cell_type": "code",
   "execution_count": null,
   "metadata": {},
   "outputs": [],
   "source": [
    "# Missingness Dependency\n",
    "\n",
    "# Q1. Does missingness in 'rating' depend on calories?\n",
    "\"\"\"\n",
    "Null hypothesis: The missingness of 'rating' column does not depend on calories.\n",
    "Alternative hypothesis: The missingness of 'rating' column does depend on calories.\n",
    "\n",
    "p ≈ 0.0\n",
    "Since P-value is less than 5%, we reject the null hypothesis.\n",
    "Therefore, we conclude that the missingness of 'rating' does depend on the 'calories' column.\n",
    "\"\"\"\n",
    "\n",
    "# 'rating' & 'calories'\n",
    "after_recipe['rating_missingness'] = after_recipe['rating'].isna()\n",
    "observed_mean_diff_cal = abs(after_recipe[after_recipe['rating_missingness']]['calories'].mean() - \n",
    "                          after_recipe[~after_recipe['rating_missingness']]['calories'].mean())\n",
    "\n",
    "perm_mean_diffs_cal = np.zeros(1000)\n",
    "\n",
    "for i in range(1000):\n",
    "    shuffled_cal = np.random.permutation(after_recipe['rating_missingness'])\n",
    "    perm_mean_diffs_cal[i] = abs(after_recipe[shuffled_cal]['calories'].mean() - \n",
    "                            after_recipe[~shuffled_cal]['calories'].mean())\n",
    "    \n",
    "p_cal = np.mean(perm_mean_diffs_cal >= observed_mean_diff_cal)\n",
    "p_cal"
   ]
  },
  {
   "cell_type": "code",
   "execution_count": null,
   "metadata": {},
   "outputs": [],
   "source": [
    "# distribution of 'rating_missingness' & 'calories'\n",
    "fig_calories = px.box(cal, y='calories', color=cal['rating_missingness'].astype(str), height = 300, width = 500, labels={'color': 'Rating Status'})\n",
    "fig_calories.update_layout(title=\"Distribution of 'calories' With and Without Rating\", yaxis_title=\"Calories\", legend_title=\"Rating Status\")\n",
    "#we used cal here for the visualization purpose\n",
    "fig_calories.show()"
   ]
  },
  {
   "cell_type": "code",
   "execution_count": null,
   "metadata": {},
   "outputs": [],
   "source": [
    "fig_calories.write_html('file-name.html', include_plotlyjs='cdn')"
   ]
  },
  {
   "cell_type": "code",
   "execution_count": null,
   "metadata": {},
   "outputs": [],
   "source": [
    "# empirical distribution of the abs difference in means of calories\n",
    "fig_c = px.histogram(pd.DataFrame(perm_mean_diffs_cal, columns=['Absolute Difference in Means of Calories']), \n",
    "                     x='Absolute Difference in Means of Calories', nbins=60, histnorm='probability', height = 500, width = 700,\n",
    "                     title='Empirical Distribution of the Absolute Difference in Means of Calories')\n",
    "fig_c.update_layout(title=dict(text='Empirical Distribution of the Absolute Difference in Means of Calories', font=dict(size=16)))\n",
    "fig_c.add_vline(x=observed_mean_diff_cal, line_color='red', line_width=1, opacity=1)\n",
    "\n",
    "fig_c.add_annotation(text=f'<span style=\"color:red\">Observed Absolute Difference in Means of Calories = {round(observed_mean_diff_cal, 3)}</span>',\n",
    "                   x=0.80 * observed_mean_diff_cal, showarrow=False, y=0.10)\n",
    "\n",
    "fig_c.show()"
   ]
  },
  {
   "cell_type": "code",
   "execution_count": null,
   "metadata": {},
   "outputs": [],
   "source": [
    "# Q2. Does missingness in 'rating' depend on the number of minutes?\n",
    "\"\"\"\n",
    "Null hypothesis: The missingness of 'rating' column does not depend on minutes to prepare the recipe.\n",
    "Alternative hypothesis: The missingness of 'rating' column does depend on minutes to prepare the recipe.\n",
    "\n",
    "p ≈ 0.122\n",
    "Since P-value is greater than 5%, we fail to reject the null hypothesis.\n",
    "Therefore, we conclude that the missingness of 'rating' does not depend on the 'minutes' column.\n",
    "\"\"\"\n",
    "# 'rating' & 'minutes'\n",
    "\n",
    "after_recipe['rating_missingness'] = after_recipe['rating'].isna()\n",
    "observed_mean_diff_min = abs(after_recipe[after_recipe['rating_missingness']]['minutes'].mean() - \n",
    "                          after_recipe[~after_recipe['rating_missingness']]['minutes'].mean())\n",
    "\n",
    "perm_mean_diffs_min = np.zeros(1000)\n",
    "\n",
    "for i in range(1000):\n",
    "    shuffled_min = np.random.permutation(after_recipe['rating_missingness'])\n",
    "    perm_mean_diffs_min[i] = abs(after_recipe[shuffled_min]['minutes'].mean() - \n",
    "                            after_recipe[~shuffled_min]['minutes'].mean())\n",
    "    \n",
    "p_min = np.mean(perm_mean_diffs_min >= observed_mean_diff_min)\n",
    "p_min\n"
   ]
  },
  {
   "cell_type": "code",
   "execution_count": null,
   "metadata": {},
   "outputs": [],
   "source": [
    "# distribution of 'rating_missingness' & 'minutes'\n",
    "fig_calories = px.box(after_recipe, x= 'rating_missingness', y='minutes', height = 300, width = 500, color=after_recipe['rating_missingness'].astype(str), labels={'color': 'Rating Status'})\n",
    "fig_calories.update_layout(title=\"Distribution of 'minutes' With and Without Rating\", yaxis_title=\"Minutes\", legend_title=\"Rating Status\")\n",
    "fig_calories.show()"
   ]
  },
  {
   "cell_type": "code",
   "execution_count": null,
   "metadata": {},
   "outputs": [],
   "source": [
    "# empirical distribution of the abs difference in means of minutes\n",
    "fig_m = px.histogram(pd.DataFrame(perm_mean_diffs_min, columns=['Absolute Difference in Means of Minutes']), \n",
    "                     x='Absolute Difference in Means of Minutes', nbins=50, histnorm='probability',\n",
    "                     height = 300, width = 500, title='Empirical Distribution of the Absolute Difference in Means of Minutes')\n",
    "fig_m.update_layout(title=dict(text='Empirical Distribution of the Absolute Difference in Means of Minutes', font=dict(size=12)))\n",
    "fig_m.add_vline(x=observed_mean_diff_min, line_color='red', line_width=1, opacity=1)\n",
    "\n",
    "fig_m.add_annotation(text=f'<span style=\"color:red\">Observed Absolute Difference in Means of Minutes = {round(observed_mean_diff_min, 3)}</span>',\n",
    "                   x=0.80 * observed_mean_diff_min, showarrow=False, y=0.27)\n",
    "\n",
    "fig_m.show()\n"
   ]
  },
  {
   "cell_type": "markdown",
   "metadata": {},
   "source": [
    "### Hypothesis Testing"
   ]
  },
  {
   "cell_type": "code",
   "execution_count": null,
   "metadata": {
    "ExecuteTime": {
     "end_time": "2019-10-31T23:36:28.666489Z",
     "start_time": "2019-10-31T23:36:28.664381Z"
    }
   },
   "outputs": [],
   "source": [
    "#Null Hypothesis = There is no relationship between calories and number of ingredients\n",
    "#Alternative = there is a positive relationship between calories and number of ingredients\n",
    "#a = 0.05\n",
    "\n",
    "\n",
    "lownum_cal = after_recipe.loc[after_recipe['low_number'] == True, 'log_calories'].mean()\n",
    "highnum_cal = after_recipe.loc[after_recipe['low_number'] == False, 'log_calories'].mean()\n",
    "\n",
    "cal_observed = np.absolute((highnum_cal) - (lownum_cal))\n",
    "cal_observed\n",
    "\n",
    "num_permutations = 1000\n",
    "result = []\n",
    "\n",
    "for i in range(num_permutations):\n",
    "    permuted_sample = np.random.permutation(after_recipe['low_number'])\n",
    "    after_recipe['low_number'].sample(frac = 1).reset_index(drop = True)\n",
    "    another = after_recipe.assign(**{'low_number' : permuted_sample})\n",
    "    lownum_cal = another.loc[another['low_number'] == True, 'log_calories'].mean()\n",
    "    highnum_cal = another.loc[another['low_number'] == False, 'log_calories'].mean()\n",
    "    result.append(np.absolute((highnum_cal) - (lownum_cal)))\n",
    "\n",
    "\n",
    "result\n",
    "\n",
    "p_value = (np.sum(result >= cal_observed)+1) / (num_permutations + 1)\n",
    "p_value\n",
    " \n",
    "#we reject the null hypothesis as 0.000999000999000999 < 0.05\n"
   ]
  },
  {
   "cell_type": "code",
   "execution_count": null,
   "metadata": {},
   "outputs": [],
   "source": [
    "fig_permu = px.histogram(x=result, nbins=30, labels={'x': 'Test Statistic'})\n",
    "fig_permu.update_layout(title='Permutation Testing Results Distribution', xaxis_title='Test Statistic', yaxis_title='Frequency')\n",
    "fig_permu.show()"
   ]
  },
  {
   "cell_type": "code",
   "execution_count": null,
   "metadata": {},
   "outputs": [],
   "source": [
    "fig_permu.write_html('graph/fig_permu.html', include_plotlyjs='cdn')"
   ]
  },
  {
   "cell_type": "code",
   "execution_count": null,
   "metadata": {},
   "outputs": [],
   "source": []
  }
 ],
 "metadata": {
  "kernelspec": {
   "display_name": "Python 3 (ipykernel)",
   "language": "python",
   "name": "python3"
  },
  "language_info": {
   "codemirror_mode": {
    "name": "ipython",
    "version": 3
   },
   "file_extension": ".py",
   "mimetype": "text/x-python",
   "name": "python",
   "nbconvert_exporter": "python",
   "pygments_lexer": "ipython3",
   "version": "3.8.18"
  }
 },
 "nbformat": 4,
 "nbformat_minor": 4
}
